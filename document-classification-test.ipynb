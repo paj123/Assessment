{
 "cells": [
  {
   "cell_type": "code",
   "execution_count": null,
   "metadata": {},
   "outputs": [],
   "source": []
  },
  {
   "cell_type": "code",
   "execution_count": 1,
   "metadata": {},
   "outputs": [],
   "source": [
    "# Importing all important libraries needed\n",
    "import pandas as pd\n",
    "import matplotlib.pyplot as plt\n",
    "\n",
    "from sklearn.feature_extraction.text import TfidfVectorizer\n",
    "\n",
    "from sklearn import model_selection\n",
    "from sklearn.linear_model import LogisticRegression\n",
    "\n",
    "from sklearn.feature_extraction.text import CountVectorizer, HashingVectorizer, TfidfTransformer, TfidfVectorizer\n",
    "from sklearn.pipeline import Pipeline\n",
    "from sklearn.model_selection import StratifiedShuffleSplit\n",
    "\n",
    "import pickle"
   ]
  },
  {
   "cell_type": "code",
   "execution_count": 2,
   "metadata": {},
   "outputs": [],
   "source": [
    "# Dataset Reading from csv file\n",
    "df1 = pd.read_csv(\"shuffled-full-set-hashed.csv\",header=None)\n",
    "df1.columns =['type', 'content'] \n",
    "df=df1.copy()"
   ]
  },
  {
   "cell_type": "code",
   "execution_count": 3,
   "metadata": {},
   "outputs": [
    {
     "data": {
      "text/html": [
       "<div>\n",
       "<style scoped>\n",
       "    .dataframe tbody tr th:only-of-type {\n",
       "        vertical-align: middle;\n",
       "    }\n",
       "\n",
       "    .dataframe tbody tr th {\n",
       "        vertical-align: top;\n",
       "    }\n",
       "\n",
       "    .dataframe thead th {\n",
       "        text-align: right;\n",
       "    }\n",
       "</style>\n",
       "<table border=\"1\" class=\"dataframe\">\n",
       "  <thead>\n",
       "    <tr style=\"text-align: right;\">\n",
       "      <th>type</th>\n",
       "      <th>APPLICATION</th>\n",
       "      <th>BILL</th>\n",
       "      <th>BILL BINDER</th>\n",
       "      <th>BINDER</th>\n",
       "      <th>CANCELLATION NOTICE</th>\n",
       "      <th>CHANGE ENDORSEMENT</th>\n",
       "      <th>DECLARATION</th>\n",
       "      <th>DELETION OF INTEREST</th>\n",
       "      <th>EXPIRATION NOTICE</th>\n",
       "      <th>INTENT TO CANCEL NOTICE</th>\n",
       "      <th>NON-RENEWAL NOTICE</th>\n",
       "      <th>POLICY CHANGE</th>\n",
       "      <th>REINSTATEMENT NOTICE</th>\n",
       "      <th>RETURNED CHECK</th>\n",
       "    </tr>\n",
       "  </thead>\n",
       "  <tbody>\n",
       "    <tr>\n",
       "      <th>content</th>\n",
       "      <td>229</td>\n",
       "      <td>18959</td>\n",
       "      <td>289</td>\n",
       "      <td>8952</td>\n",
       "      <td>9729</td>\n",
       "      <td>889</td>\n",
       "      <td>967</td>\n",
       "      <td>4826</td>\n",
       "      <td>734</td>\n",
       "      <td>229</td>\n",
       "      <td>624</td>\n",
       "      <td>10616</td>\n",
       "      <td>4367</td>\n",
       "      <td>749</td>\n",
       "    </tr>\n",
       "  </tbody>\n",
       "</table>\n",
       "</div>"
      ],
      "text/plain": [
       "type     APPLICATION   BILL  BILL BINDER  BINDER  CANCELLATION NOTICE  \\\n",
       "content          229  18959          289    8952                 9729   \n",
       "\n",
       "type     CHANGE ENDORSEMENT  DECLARATION  DELETION OF INTEREST  \\\n",
       "content                 889          967                  4826   \n",
       "\n",
       "type     EXPIRATION NOTICE  INTENT TO CANCEL NOTICE  NON-RENEWAL NOTICE  \\\n",
       "content                734                      229                 624   \n",
       "\n",
       "type     POLICY CHANGE  REINSTATEMENT NOTICE  RETURNED CHECK  \n",
       "content          10616                  4367             749  "
      ]
     },
     "execution_count": 3,
     "metadata": {},
     "output_type": "execute_result"
    }
   ],
   "source": [
    "# let's see the distribution of the data to different classes\n",
    "df.groupby('type').count().transpose()"
   ]
  },
  {
   "cell_type": "code",
   "execution_count": 4,
   "metadata": {},
   "outputs": [],
   "source": [
    "# Removal of Null values\n",
    "df=df[df.content.notnull()].reset_index(drop=True)\n",
    "\n",
    "# Removal of spaces from beginning and end\n",
    "df=df.apply(lambda x: x.str.strip() if x.dtype == \"object\" else x)\n",
    "\n",
    "# Removal of duplicates\n",
    "df=df.drop_duplicates().reset_index(drop=True)"
   ]
  },
  {
   "cell_type": "code",
   "execution_count": 5,
   "metadata": {},
   "outputs": [
    {
     "data": {
      "text/html": [
       "<div>\n",
       "<style scoped>\n",
       "    .dataframe tbody tr th:only-of-type {\n",
       "        vertical-align: middle;\n",
       "    }\n",
       "\n",
       "    .dataframe tbody tr th {\n",
       "        vertical-align: top;\n",
       "    }\n",
       "\n",
       "    .dataframe thead th {\n",
       "        text-align: right;\n",
       "    }\n",
       "</style>\n",
       "<table border=\"1\" class=\"dataframe\">\n",
       "  <thead>\n",
       "    <tr style=\"text-align: right;\">\n",
       "      <th>type</th>\n",
       "      <th>BILL</th>\n",
       "      <th>BINDER</th>\n",
       "      <th>CANCELLATION NOTICE</th>\n",
       "      <th>DECLARATION</th>\n",
       "      <th>POLICY CHANGE</th>\n",
       "      <th>REINSTATEMENT NOTICE</th>\n",
       "    </tr>\n",
       "  </thead>\n",
       "  <tbody>\n",
       "    <tr>\n",
       "      <th>type</th>\n",
       "      <td>9</td>\n",
       "      <td>21</td>\n",
       "      <td>2</td>\n",
       "      <td>1</td>\n",
       "      <td>11</td>\n",
       "      <td>1</td>\n",
       "    </tr>\n",
       "  </tbody>\n",
       "</table>\n",
       "</div>"
      ],
      "text/plain": [
       "type  BILL  BINDER  CANCELLATION NOTICE  DECLARATION  POLICY CHANGE  \\\n",
       "type     9      21                    2            1             11   \n",
       "\n",
       "type  REINSTATEMENT NOTICE  \n",
       "type                     1  "
      ]
     },
     "execution_count": 5,
     "metadata": {},
     "output_type": "execute_result"
    }
   ],
   "source": [
    "# Let's check whether the null values are removing any specific class or not\n",
    "df1[df1.content.isnull()].reset_index(drop=True).groupby('type')[['type']].count().transpose()"
   ]
  },
  {
   "cell_type": "code",
   "execution_count": 6,
   "metadata": {},
   "outputs": [],
   "source": [
    "# Spliting the dataset in training and testing\n",
    "X_train, X_test, Y_train, Y_test = model_selection.train_test_split(df, df.type, test_size=0.20, \n",
    "                                                                    random_state=1000, stratify=df['type'])\n"
   ]
  },
  {
   "cell_type": "code",
   "execution_count": 7,
   "metadata": {},
   "outputs": [],
   "source": [
    "# Calling diff. vectorizers\n",
    "CountVectTokenizer = CountVectorizer()\n",
    "hashingVectTokenizer = HashingVectorizer()\n",
    "TfidfVectTokenizer = TfidfVectorizer()\n",
    "TfidfTransfTokenizer = TfidfTransformer()"
   ]
  },
  {
   "cell_type": "code",
   "execution_count": 8,
   "metadata": {},
   "outputs": [],
   "source": [
    "# Cnvert raw text data to numeric data || Tokenizing\n",
    "tfidf = TfidfVectTokenizer.fit_transform(X_train.content.values.astype('U'))\n",
    "tfidf1 = TfidfVectTokenizer.transform(X_test.content.values.astype('U'))"
   ]
  },
  {
   "cell_type": "code",
   "execution_count": 9,
   "metadata": {},
   "outputs": [
    {
     "data": {
      "text/plain": [
       "LogisticRegression(max_iter=50, n_jobs=-1)"
      ]
     },
     "execution_count": 9,
     "metadata": {},
     "output_type": "execute_result"
    }
   ],
   "source": [
    "# Building the Logistic Regression Model\n",
    "model = LogisticRegression(n_jobs=-1, max_iter=50)\n",
    "model.fit(tfidf, Y_train)"
   ]
  },
  {
   "cell_type": "code",
   "execution_count": 10,
   "metadata": {},
   "outputs": [
    {
     "name": "stdout",
     "output_type": "stream",
     "text": [
      "0.850194070526055\n"
     ]
    }
   ],
   "source": [
    "# Evaluation || Accuracy\n",
    "print(model.score(tfidf1, Y_test))"
   ]
  },
  {
   "cell_type": "code",
   "execution_count": 11,
   "metadata": {},
   "outputs": [],
   "source": [
    "# Store model and vectorizer\n",
    "pickle.dump(model, open('LRmodel.pkl', 'wb'))\n",
    "pickle.dump(TfidfVectTokenizer, open('vec.pkl', 'wb'))"
   ]
  }
 ],
 "metadata": {
  "kernelspec": {
   "display_name": "Python 3",
   "language": "python",
   "name": "python3"
  },
  "language_info": {
   "codemirror_mode": {
    "name": "ipython",
    "version": 3
   },
   "file_extension": ".py",
   "mimetype": "text/x-python",
   "name": "python",
   "nbconvert_exporter": "python",
   "pygments_lexer": "ipython3",
   "version": "3.8.5"
  }
 },
 "nbformat": 4,
 "nbformat_minor": 4
}
